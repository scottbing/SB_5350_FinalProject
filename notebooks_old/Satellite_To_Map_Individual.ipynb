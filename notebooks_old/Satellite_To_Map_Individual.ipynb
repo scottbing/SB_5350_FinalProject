{
 "cells": [
  {
   "cell_type": "markdown",
   "id": "legislative-federation",
   "metadata": {},
   "source": [
    "## Map to Satellite Chosen File\n",
    "\n",
    "## Taken from: https://machinelearningmastery.com/how-to-develop-a-pix2pix-gan-for-image-to-image-translation/"
   ]
  },
  {
   "cell_type": "code",
   "execution_count": 1,
   "id": "labeled-palestine",
   "metadata": {},
   "outputs": [],
   "source": [
    "# example of loading a pix2pix model and using it for one-off image translation\n",
    "from keras.models import load_model\n",
    "from keras.preprocessing.image import img_to_array\n",
    "from keras.preprocessing.image import load_img\n",
    "from numpy import load\n",
    "from numpy import vstack\n",
    "from numpy import expand_dims\n",
    "from numpy.random import randint\n",
    "from matplotlib import pyplot\n",
    "import glob\n",
    "import os"
   ]
  },
  {
   "cell_type": "markdown",
   "id": "southwest-christmas",
   "metadata": {},
   "source": [
    "## Helper functions"
   ]
  },
  {
   "cell_type": "code",
   "execution_count": 2,
   "id": "cardiovascular-bangkok",
   "metadata": {},
   "outputs": [],
   "source": [
    "# load an image\n",
    "def load_image(filename, size=(256,256)):\n",
    "    # load image with the preferred size\n",
    "    pixels = load_img(filename, target_size=size)\n",
    "    # convert to numpy array\n",
    "    pixels = img_to_array(pixels)\n",
    "    # scale from [0,255] to [-1,1]\n",
    "    pixels = (pixels - 127.5) / 127.5\n",
    "    # reshape to 1 sample\n",
    "    pixels = expand_dims(pixels, 0)\n",
    "    return pixels\n",
    "\n",
    "# load and prepare training images\n",
    "def load_real_samples(filename):\n",
    "    # load compressed arrays\n",
    "    data = load(filename)\n",
    "    # unpack arrays\n",
    "    X1, X2 = data['arr_0'], data['arr_1']\n",
    "    # scale from [0,255] to [-1,1]\n",
    "    X1 = (X1 - 127.5) / 127.5\n",
    "    X2 = (X2 - 127.5) / 127.5\n",
    "    return [X1, X2]\n",
    "\n",
    "# plot source, generated and target images\n",
    "def plot_images(src_img, gen_img, tar_img):\n",
    "    images = vstack((src_img, gen_img, tar_img))\n",
    "    # scale from [-1,1] to [0,1]\n",
    "    images = (images + 1) / 2.0\n",
    "    titles = ['Source', 'Generated', 'Expected']\n",
    "    # plot images row by row\n",
    "    for i in range(len(images)):\n",
    "        # define subplot\n",
    "        pyplot.subplot(1, 3, 1 + i)\n",
    "        # turn off axis\n",
    "        pyplot.axis('off')\n",
    "        # plot raw pixel data\n",
    "        pyplot.imshow(images[i])\n",
    "        # show title\n",
    "        pyplot.title(titles[i])\n",
    "    pyplot.show()\n",
    "\n",
    "\n",
    "def getModels():\n",
    "    models = []\n",
    "    glb = glob.glob(r'./**', recursive=True)\n",
    "    for name in glb:\n",
    "        if name[-2:] == \"h5\":\n",
    "            models.append(name)\n",
    "           \n",
    "    return models"
   ]
  },
  {
   "cell_type": "markdown",
   "id": "spanish-policy",
   "metadata": {},
   "source": [
    "## Entry Point"
   ]
  },
  {
   "cell_type": "markdown",
   "id": "ceramic-syndication",
   "metadata": {},
   "source": [
    "def process_file(button):\n",
    "    # load source image\n",
    "    src_image = load_image('satellite.jpg')\n",
    "    print('Loaded', src_image.shape)\n",
    "    # load model\n",
    "    model = load_model(mod1.value)\n",
    "    # generate image from source\n",
    "    gen_image = model.predict(src_image)\n",
    "    # scale from [-1,1] to [0,1]\n",
    "    gen_image = (gen_image + 1) / 2.0\n",
    "    # plot the image\n",
    "    pyplot.imshow(gen_image[0])\n",
    "    pyplot.axis('off')\n",
    "    pyplot.show()"
   ]
  },
  {
   "cell_type": "code",
   "execution_count": 3,
   "id": "electronic-relay",
   "metadata": {},
   "outputs": [],
   "source": [
    "def process_file(button):    \n",
    "    # load dataset\n",
    "    [X1, X2] = load_real_samples('maps_256.npz')\n",
    "    print('Loaded', X1.shape, X2.shape)\n",
    "    # load model\n",
    "    #print(\"mod1.value: \", mod1.value)\n",
    "    model = load_model(mod1.value)\n",
    "    # select random example\n",
    "    #ix = randint(0, len(X1), 1)\n",
    "    #print(\"type(ix):\", type(ix))\n",
    "    #ix = [250]\n",
    "    ix = [img.value]\n",
    "    print(\"ix: \", ix)\n",
    "    src_image, tar_image = X1[ix], X2[ix]\n",
    "    # generate image from source\n",
    "    gen_image = model.predict(src_image)\n",
    "    # plot all three images\n",
    "    plot_images(src_image, gen_image, tar_image)"
   ]
  },
  {
   "cell_type": "markdown",
   "id": "million-dylan",
   "metadata": {},
   "source": [
    "def process_file(button):    \n",
    "    # load dataset\n",
    "    src_image = load_image('satellite.jpg')\n",
    "    print('Loaded', src_image.shape)\n",
    "    # load model\n",
    "    model = load_model(mod1.value)\n",
    "    # generate image from source\n",
    "    gen_image = model.predict(src_image)\n",
    "    # scale from [-1,1] to [0,1]\n",
    "    gen_image = (gen_image + 1) / 2.0\n",
    "    # plot all three images\n",
    "    plot_images(src_image, gen_image, tar_image)"
   ]
  },
  {
   "cell_type": "code",
   "execution_count": 4,
   "id": "national-class",
   "metadata": {},
   "outputs": [
    {
     "data": {
      "application/vnd.jupyter.widget-view+json": {
       "model_id": "23925b5543384c638d3331ae36f51176",
       "version_major": 2,
       "version_minor": 0
      },
      "text/plain": [
       "HBox(children=(Dropdown(options=('.\\\\backup100\\\\model_010960.h5', '.\\\\backup100\\\\model_021920.h5', '.\\\\backup1…"
      ]
     },
     "metadata": {},
     "output_type": "display_data"
    },
    {
     "name": "stdout",
     "output_type": "stream",
     "text": [
      "Loaded (1096, 256, 256, 3) (1096, 256, 256, 3)\n"
     ]
    }
   ],
   "source": [
    "from ipywidgets import widgets\n",
    "mods = getModels()\n",
    "img = widgets.IntText(value=0, description='Image Number:', disabled=False)\n",
    "mod1 = widgets.Dropdown(options = mods)\n",
    "submit = widgets.Button(description='Submit')\n",
    "submit.on_click(process_file)\n",
    "widgets.HBox([mod1, img, submit])"
   ]
  },
  {
   "cell_type": "code",
   "execution_count": null,
   "id": "lasting-despite",
   "metadata": {},
   "outputs": [],
   "source": []
  }
 ],
 "metadata": {
  "kernelspec": {
   "display_name": "Python 3",
   "language": "python",
   "name": "python3"
  },
  "language_info": {
   "codemirror_mode": {
    "name": "ipython",
    "version": 3
   },
   "file_extension": ".py",
   "mimetype": "text/x-python",
   "name": "python",
   "nbconvert_exporter": "python",
   "pygments_lexer": "ipython3",
   "version": "3.7.9"
  },
  "varInspector": {
   "cols": {
    "lenName": 16,
    "lenType": 16,
    "lenVar": 40
   },
   "kernels_config": {
    "python": {
     "delete_cmd_postfix": "",
     "delete_cmd_prefix": "del ",
     "library": "var_list.py",
     "varRefreshCmd": "print(var_dic_list())"
    },
    "r": {
     "delete_cmd_postfix": ") ",
     "delete_cmd_prefix": "rm(",
     "library": "var_list.r",
     "varRefreshCmd": "cat(var_dic_list()) "
    }
   },
   "types_to_exclude": [
    "module",
    "function",
    "builtin_function_or_method",
    "instance",
    "_Feature"
   ],
   "window_display": false
  }
 },
 "nbformat": 4,
 "nbformat_minor": 5
}
